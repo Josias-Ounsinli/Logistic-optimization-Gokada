{
 "cells": [
  {
   "cell_type": "code",
   "execution_count": 1,
   "metadata": {},
   "outputs": [],
   "source": [
    "import sys\n",
    "import os\n",
    "\n",
    "import warnings\n",
    "warnings.filterwarnings(\"ignore\")\n",
    "\n",
    "sys.path.append(os.path.abspath(os.path.join(\"../scripts\"))) \n",
    "import data_loader      \n",
    "\n",
    "import pandas as pd\n",
    "\n",
    "import dvc.api\n",
    "import io\n",
    "\n",
    "import datetime\n",
    "\n",
    "from logger_class import App_Logger\n",
    "# app_logger = App_Logger(\"../logs/dataLoading.log\").get_app_logger()"
   ]
  },
  {
   "cell_type": "code",
   "execution_count": 2,
   "metadata": {},
   "outputs": [],
   "source": [
    "# path = 'data/nb.csv'\n",
    "# repo = './'\n",
    "# version='nb_V0'\n",
    "\n",
    "# data_url = dvc.api.get_url(\n",
    "#     path=path,\n",
    "# \trepo=repo,\n",
    "# \trev=version\n",
    "# \t)\n",
    "\n",
    "# tripdf = pd.read_csv(data_url)\n",
    "\n",
    "tripdf = data_loader.load_data('../data/nb.csv')"
   ]
  },
  {
   "cell_type": "code",
   "execution_count": 3,
   "metadata": {},
   "outputs": [],
   "source": [
    "# path = 'data/driver_locations_during_request.csv'\n",
    "# repo = './'\n",
    "# version='nb_V0'\n",
    "\n",
    "# data_url = dvc.api.get_url(\n",
    "#     path=path,\n",
    "# \trepo=repo,\n",
    "# \trev=version\n",
    "# \t)\n",
    "\n",
    "# tripdf = pd.read_csv(data_url)\n",
    "\n",
    "requestdf = data_loader.load_data('../data/driver_locations_during_request.csv')"
   ]
  },
  {
   "cell_type": "code",
   "execution_count": 4,
   "metadata": {},
   "outputs": [],
   "source": [
    "def todatetime(df, column):\n",
    "        df[column] = pd.to_datetime(df[column])\n",
    "        return df"
   ]
  },
  {
   "cell_type": "code",
   "execution_count": 5,
   "metadata": {},
   "outputs": [],
   "source": [
    "cols = ['Trip Start Time', 'Trip End Time']\n",
    "\n",
    "for i in cols:\n",
    "    todatetime(tripdf, i)"
   ]
  },
  {
   "cell_type": "code",
   "execution_count": 6,
   "metadata": {},
   "outputs": [],
   "source": [
    "Trip_Org_lat = []\n",
    "Trip_Org_long = []\n",
    "Trip_Dest_lat = []\n",
    "Trip_Dest_long = []\n",
    "\n",
    "for i in range(len(tripdf)):\n",
    "    Trip_Org_lat.append(float(tripdf['Trip Origin'][i].split(',')[0]))\n",
    "    Trip_Org_long.append(float(tripdf['Trip Origin'][i].split(',')[1]))\n",
    "    Trip_Dest_lat.append(float(tripdf['Trip Destination'][i].split(',')[0]))\n",
    "    Trip_Dest_long.append(float(tripdf['Trip Destination'][i].split(',')[1]))"
   ]
  },
  {
   "cell_type": "code",
   "execution_count": 7,
   "metadata": {},
   "outputs": [],
   "source": [
    "tripdf['Trip_Org_lat'] = Trip_Org_lat\n",
    "tripdf['Trip_Org_long'] = Trip_Org_long\n",
    "tripdf['Trip_Dest_lat'] = Trip_Dest_lat\n",
    "tripdf['Trip_Dest_long'] = Trip_Dest_long"
   ]
  },
  {
   "cell_type": "code",
   "execution_count": 8,
   "metadata": {},
   "outputs": [
    {
     "name": "stdout",
     "output_type": "stream",
     "text": [
      "<class 'pandas.core.frame.DataFrame'>\n",
      "RangeIndex: 536020 entries, 0 to 536019\n",
      "Data columns (total 9 columns):\n",
      " #   Column            Non-Null Count   Dtype         \n",
      "---  ------            --------------   -----         \n",
      " 0   Trip ID           536020 non-null  int64         \n",
      " 1   Trip Origin       536020 non-null  object        \n",
      " 2   Trip Destination  536020 non-null  object        \n",
      " 3   Trip Start Time   534369 non-null  datetime64[ns]\n",
      " 4   Trip End Time     536019 non-null  datetime64[ns]\n",
      " 5   Trip_Org_lat      536020 non-null  float64       \n",
      " 6   Trip_Org_long     536020 non-null  float64       \n",
      " 7   Trip_Dest_lat     536020 non-null  float64       \n",
      " 8   Trip_Dest_long    536020 non-null  float64       \n",
      "dtypes: datetime64[ns](2), float64(4), int64(1), object(2)\n",
      "memory usage: 36.8+ MB\n"
     ]
    }
   ],
   "source": [
    "tripdf.info()"
   ]
  },
  {
   "cell_type": "code",
   "execution_count": 9,
   "metadata": {},
   "outputs": [
    {
     "name": "stdout",
     "output_type": "stream",
     "text": [
      "<class 'pandas.core.frame.DataFrame'>\n",
      "RangeIndex: 1557740 entries, 0 to 1557739\n",
      "Data columns (total 8 columns):\n",
      " #   Column         Non-Null Count    Dtype  \n",
      "---  ------         --------------    -----  \n",
      " 0   id             1557740 non-null  int64  \n",
      " 1   order_id       1557740 non-null  int64  \n",
      " 2   driver_id      1557740 non-null  int64  \n",
      " 3   driver_action  1557740 non-null  object \n",
      " 4   lat            1557740 non-null  float64\n",
      " 5   lng            1557740 non-null  float64\n",
      " 6   created_at     0 non-null        float64\n",
      " 7   updated_at     0 non-null        float64\n",
      "dtypes: float64(4), int64(3), object(1)\n",
      "memory usage: 95.1+ MB\n"
     ]
    }
   ],
   "source": [
    "requestdf.info()"
   ]
  },
  {
   "cell_type": "code",
   "execution_count": 10,
   "metadata": {},
   "outputs": [
    {
     "data": {
      "text/plain": [
       "rejected    1531837\n",
       "accepted      25903\n",
       "Name: driver_action, dtype: int64"
      ]
     },
     "execution_count": 10,
     "metadata": {},
     "output_type": "execute_result"
    }
   ],
   "source": [
    "requestdf.driver_action.value_counts()"
   ]
  },
  {
   "cell_type": "code",
   "execution_count": 11,
   "metadata": {},
   "outputs": [],
   "source": [
    "tripdf_cop = tripdf.copy()\n",
    "tripdf_cop.rename(columns={'Trip ID': 'order_id'}, inplace=True)"
   ]
  },
  {
   "cell_type": "code",
   "execution_count": 12,
   "metadata": {},
   "outputs": [],
   "source": [
    "## Merge\n",
    "completeddf = pd.merge(requestdf[requestdf['driver_action']=='accepted'], tripdf_cop, on='order_id', how='inner')"
   ]
  },
  {
   "cell_type": "code",
   "execution_count": 13,
   "metadata": {},
   "outputs": [],
   "source": [
    "completeddf.to_csv('../data/completed_orders_descrip.csv', index=False)"
   ]
  },
  {
   "cell_type": "code",
   "execution_count": null,
   "metadata": {},
   "outputs": [],
   "source": []
  }
 ],
 "metadata": {
  "kernelspec": {
   "display_name": "Python 3.10.6 64-bit",
   "language": "python",
   "name": "python3"
  },
  "language_info": {
   "codemirror_mode": {
    "name": "ipython",
    "version": 3
   },
   "file_extension": ".py",
   "mimetype": "text/x-python",
   "name": "python",
   "nbconvert_exporter": "python",
   "pygments_lexer": "ipython3",
   "version": "3.10.6"
  },
  "orig_nbformat": 4,
  "vscode": {
   "interpreter": {
    "hash": "e7370f93d1d0cde622a1f8e1c04877d8463912d04d973331ad4851f04de6915a"
   }
  }
 },
 "nbformat": 4,
 "nbformat_minor": 2
}
