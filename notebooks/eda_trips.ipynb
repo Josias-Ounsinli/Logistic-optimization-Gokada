{
 "cells": [
  {
   "cell_type": "code",
   "execution_count": 1,
   "metadata": {},
   "outputs": [],
   "source": [
    "import sys\n",
    "import os\n",
    "\n",
    "import warnings\n",
    "warnings.filterwarnings(\"ignore\")\n",
    "\n",
    "import seaborn as sns\n",
    "import matplotlib.pyplot as plt\n",
    "\n",
    "sys.path.append(os.path.abspath(os.path.join(\"../scripts\"))) \n",
    "import data_loader      \n",
    "\n",
    "from geopy.geocoders import Nominatim\n",
    "geolocator = Nominatim(user_agent=\"geoapiExercises\")\n",
    "\n",
    "import pandas as pd\n",
    "\n",
    "import dvc.api\n",
    "import io\n",
    "\n",
    "import datetime\n",
    "\n",
    "from logger_class import App_Logger\n",
    "# app_logger = App_Logger(\"../logs/dataLoading.log\").get_app_logger()"
   ]
  },
  {
   "cell_type": "code",
   "execution_count": 2,
   "metadata": {},
   "outputs": [],
   "source": [
    "path = 'data/nb.csv'\n",
    "repo = './'\n",
    "version='nb_V1'\n",
    "\n",
    "data_url = dvc.api.get_url(\n",
    "    path=path,\n",
    "\trepo=repo,\n",
    "\trev=version\n",
    "\t)\n",
    "\n",
    "tripdf = pd.read_csv(data_url)"
   ]
  },
  {
   "cell_type": "code",
   "execution_count": 3,
   "metadata": {},
   "outputs": [],
   "source": [
    "def todatetime(df, column):\n",
    "        df[column] = pd.to_datetime(df[column])\n",
    "        return df\n",
    "\n",
    "cols = ['Trip Start Time', 'Trip End Time']\n",
    "\n",
    "for i in cols:\n",
    "    todatetime(tripdf, i)"
   ]
  },
  {
   "cell_type": "code",
   "execution_count": 4,
   "metadata": {},
   "outputs": [
    {
     "name": "stdout",
     "output_type": "stream",
     "text": [
      "<class 'pandas.core.frame.DataFrame'>\n",
      "RangeIndex: 536020 entries, 0 to 536019\n",
      "Data columns (total 9 columns):\n",
      " #   Column            Non-Null Count   Dtype         \n",
      "---  ------            --------------   -----         \n",
      " 0   Trip ID           536020 non-null  int64         \n",
      " 1   Trip Origin       536020 non-null  object        \n",
      " 2   Trip Destination  536020 non-null  object        \n",
      " 3   Trip Start Time   534369 non-null  datetime64[ns]\n",
      " 4   Trip End Time     536019 non-null  datetime64[ns]\n",
      " 5   Trip_Org_lat      536020 non-null  float64       \n",
      " 6   Trip_Org_long     536020 non-null  float64       \n",
      " 7   Trip_Dest_lat     536020 non-null  float64       \n",
      " 8   Trip_Dest_long    536020 non-null  float64       \n",
      "dtypes: datetime64[ns](2), float64(4), int64(1), object(2)\n",
      "memory usage: 36.8+ MB\n"
     ]
    }
   ],
   "source": [
    "tripdf.info()"
   ]
  },
  {
   "cell_type": "code",
   "execution_count": 5,
   "metadata": {},
   "outputs": [
    {
     "name": "stdout",
     "output_type": "stream",
     "text": [
      "The dataset contains 0.03 % missing values.\n"
     ]
    }
   ],
   "source": [
    "data_loader.percent_missing(tripdf)"
   ]
  },
  {
   "cell_type": "code",
   "execution_count": 6,
   "metadata": {},
   "outputs": [
    {
     "name": "stdout",
     "output_type": "stream",
     "text": [
      "Your selected dataframe has 9 columns.\n",
      "There are 2 columns that have missing values.\n"
     ]
    },
    {
     "data": {
      "text/html": [
       "<div>\n",
       "<style scoped>\n",
       "    .dataframe tbody tr th:only-of-type {\n",
       "        vertical-align: middle;\n",
       "    }\n",
       "\n",
       "    .dataframe tbody tr th {\n",
       "        vertical-align: top;\n",
       "    }\n",
       "\n",
       "    .dataframe thead th {\n",
       "        text-align: right;\n",
       "    }\n",
       "</style>\n",
       "<table border=\"1\" class=\"dataframe\">\n",
       "  <thead>\n",
       "    <tr style=\"text-align: right;\">\n",
       "      <th></th>\n",
       "      <th>Missing Values</th>\n",
       "      <th>% of Total Values</th>\n",
       "      <th>Dtype</th>\n",
       "    </tr>\n",
       "  </thead>\n",
       "  <tbody>\n",
       "    <tr>\n",
       "      <th>Trip Start Time</th>\n",
       "      <td>1651</td>\n",
       "      <td>0.3</td>\n",
       "      <td>datetime64[ns]</td>\n",
       "    </tr>\n",
       "    <tr>\n",
       "      <th>Trip End Time</th>\n",
       "      <td>1</td>\n",
       "      <td>0.0</td>\n",
       "      <td>datetime64[ns]</td>\n",
       "    </tr>\n",
       "  </tbody>\n",
       "</table>\n",
       "</div>"
      ],
      "text/plain": [
       "                 Missing Values  % of Total Values           Dtype\n",
       "Trip Start Time            1651                0.3  datetime64[ns]\n",
       "Trip End Time                 1                0.0  datetime64[ns]"
      ]
     },
     "execution_count": 6,
     "metadata": {},
     "output_type": "execute_result"
    }
   ],
   "source": [
    "data_loader.missing_values_table(tripdf)"
   ]
  },
  {
   "cell_type": "markdown",
   "metadata": {},
   "source": [
    "Trip Start Time has missing 1651 missing values and Trip End time as 1 missing value."
   ]
  },
  {
   "cell_type": "markdown",
   "metadata": {},
   "source": [
    "Let's consider the duration of the trips to find deal with that."
   ]
  },
  {
   "cell_type": "code",
   "execution_count": 7,
   "metadata": {},
   "outputs": [],
   "source": [
    "tripdf['duration'] = tripdf['Trip End Time'] - tripdf['Trip Start Time']"
   ]
  },
  {
   "cell_type": "code",
   "execution_count": 8,
   "metadata": {},
   "outputs": [],
   "source": [
    "duration_min = []\n",
    "for i in range(len(tripdf)):\n",
    "    duration_min.append(tripdf['duration'][i].seconds / 60)\n",
    "\n",
    "tripdf['duration_in_min'] = duration_min"
   ]
  },
  {
   "cell_type": "code",
   "execution_count": 11,
   "metadata": {},
   "outputs": [
    {
     "name": "stdout",
     "output_type": "stream",
     "text": [
      "Your selected dataframe has 11 columns.\n",
      "There are 4 columns that have missing values.\n"
     ]
    },
    {
     "data": {
      "text/html": [
       "<div>\n",
       "<style scoped>\n",
       "    .dataframe tbody tr th:only-of-type {\n",
       "        vertical-align: middle;\n",
       "    }\n",
       "\n",
       "    .dataframe tbody tr th {\n",
       "        vertical-align: top;\n",
       "    }\n",
       "\n",
       "    .dataframe thead th {\n",
       "        text-align: right;\n",
       "    }\n",
       "</style>\n",
       "<table border=\"1\" class=\"dataframe\">\n",
       "  <thead>\n",
       "    <tr style=\"text-align: right;\">\n",
       "      <th></th>\n",
       "      <th>Missing Values</th>\n",
       "      <th>% of Total Values</th>\n",
       "      <th>Dtype</th>\n",
       "    </tr>\n",
       "  </thead>\n",
       "  <tbody>\n",
       "    <tr>\n",
       "      <th>duration</th>\n",
       "      <td>1652</td>\n",
       "      <td>0.3</td>\n",
       "      <td>timedelta64[ns]</td>\n",
       "    </tr>\n",
       "    <tr>\n",
       "      <th>duration_in_min</th>\n",
       "      <td>1652</td>\n",
       "      <td>0.3</td>\n",
       "      <td>float64</td>\n",
       "    </tr>\n",
       "    <tr>\n",
       "      <th>Trip Start Time</th>\n",
       "      <td>1651</td>\n",
       "      <td>0.3</td>\n",
       "      <td>datetime64[ns]</td>\n",
       "    </tr>\n",
       "    <tr>\n",
       "      <th>Trip End Time</th>\n",
       "      <td>1</td>\n",
       "      <td>0.0</td>\n",
       "      <td>datetime64[ns]</td>\n",
       "    </tr>\n",
       "  </tbody>\n",
       "</table>\n",
       "</div>"
      ],
      "text/plain": [
       "                 Missing Values  % of Total Values            Dtype\n",
       "duration                   1652                0.3  timedelta64[ns]\n",
       "duration_in_min            1652                0.3          float64\n",
       "Trip Start Time            1651                0.3   datetime64[ns]\n",
       "Trip End Time                 1                0.0   datetime64[ns]"
      ]
     },
     "execution_count": 11,
     "metadata": {},
     "output_type": "execute_result"
    }
   ],
   "source": [
    "data_loader.missing_values_table(tripdf)"
   ]
  },
  {
   "cell_type": "code",
   "execution_count": 12,
   "metadata": {},
   "outputs": [
    {
     "data": {
      "text/plain": [
       "7.563747941895052"
      ]
     },
     "execution_count": 12,
     "metadata": {},
     "output_type": "execute_result"
    }
   ],
   "source": [
    "## Fill missing values in duration\n",
    "tripdf.duration_in_min.skew()"
   ]
  },
  {
   "cell_type": "code",
   "execution_count": 13,
   "metadata": {},
   "outputs": [],
   "source": [
    "## Fill missing values with median\n",
    "tripdf['duration_in_min'] = tripdf['duration_in_min'].fillna(tripdf['duration_in_min'].median())"
   ]
  },
  {
   "cell_type": "code",
   "execution_count": null,
   "metadata": {},
   "outputs": [],
   "source": []
  },
  {
   "cell_type": "code",
   "execution_count": 15,
   "metadata": {},
   "outputs": [
    {
     "data": {
      "text/plain": [
       "Text(0.5, 1.0, 'The distribution of Trip Duration in minutes')"
      ]
     },
     "execution_count": 15,
     "metadata": {},
     "output_type": "execute_result"
    },
    {
     "data": {
      "image/png": "[encoded data removed]",
      "text/plain": [
       "<Figure size 640x480 with 1 Axes>"
      ]
     },
     "metadata": {},
     "output_type": "display_data"
    }
   ],
   "source": [
    "sns.distplot(tripdf['duration_in_min'],kde=True)\n",
    "plt.title('The distribution of Trip Duration in minutes')"
   ]
  },
  {
   "cell_type": "markdown",
   "metadata": {},
   "source": [
    "### Locations"
   ]
  },
  {
   "cell_type": "code",
   "execution_count": 27,
   "metadata": {},
   "outputs": [],
   "source": [
    "Julydf = tripdf[tripdf['Trip Start Time'].dt.month == 7.0]"
   ]
  },
  {
   "cell_type": "code",
   "execution_count": 29,
   "metadata": {},
   "outputs": [
    {
     "data": {
      "text/plain": [
       "83689"
      ]
     },
     "execution_count": 29,
     "metadata": {},
     "output_type": "execute_result"
    }
   ],
   "source": [
    "len(Julydf)"
   ]
  },
  {
   "cell_type": "code",
   "execution_count": 67,
   "metadata": {},
   "outputs": [],
   "source": [
    "def getlocation(Latitude: str, Longitude: str):\n",
    "    location = geolocator.reverse(Latitude+\",\"+Longitude).raw['address']\n",
    "    return location"
   ]
  },
  {
   "cell_type": "code",
   "execution_count": 49,
   "metadata": {},
   "outputs": [
    {
     "name": "stdout",
     "output_type": "stream",
     "text": [
      "Little Road, Onike, Lagos Mainland, Lagos, 100231, Nigeria\n",
      "{'road': 'Little Road', 'village': 'Onike', 'county': 'Lagos Mainland', 'state': 'Lagos', 'ISO3166-2-lvl4': 'NG-LA', 'postcode': '100231', 'country': 'Nigeria', 'country_code': 'ng'}\n",
      "City :  \n",
      "State :  Lagos\n",
      "Country :  Nigeria\n",
      "Zip Code :  100231\n"
     ]
    }
   ],
   "source": [
    "Latitude = f\"{Julydf['Trip_Org_lat'][0]}\"\n",
    "Longitude = f\"{Julydf['Trip_Org_long'][0]}\"\n",
    " \n",
    "location = geolocator.reverse(Latitude+\",\"+Longitude)\n",
    " \n",
    "# Display\n",
    "print(location)\n",
    "\n",
    "address = location.raw['address']\n",
    "print(address)\n",
    "\n",
    "city = address.get('city', '')\n",
    "state = address.get('state', '')\n",
    "country = address.get('country', '')\n",
    "code = address.get('country_code')\n",
    "zipcode = address.get('postcode')\n",
    "print('City : ',city)\n",
    "print('State : ',state)\n",
    "print('Country : ',country)\n",
    "print('Zip Code : ', zipcode)"
   ]
  },
  {
   "cell_type": "code",
   "execution_count": 64,
   "metadata": {},
   "outputs": [
    {
     "data": {
      "text/plain": [
       "{'road': 'Little Road',\n",
       " 'village': 'Onike',\n",
       " 'county': 'Lagos Mainland',\n",
       " 'state': 'Lagos',\n",
       " 'ISO3166-2-lvl4': 'NG-LA',\n",
       " 'postcode': '100231',\n",
       " 'country': 'Nigeria',\n",
       " 'country_code': 'ng'}"
      ]
     },
     "execution_count": 64,
     "metadata": {},
     "output_type": "execute_result"
    }
   ],
   "source": [
    "getlocation(f\"{Julydf['Trip_Org_lat'][0]}\", f\"{Julydf['Trip_Org_long'][0]}\")."
   ]
  },
  {
   "cell_type": "code",
   "execution_count": 77,
   "metadata": {},
   "outputs": [
    {
     "data": {
      "text/plain": [
       "<matplotlib.legend.Legend at 0x7f96ba053b20>"
      ]
     },
     "execution_count": 77,
     "metadata": {},
     "output_type": "execute_result"
    },
    {
     "data": {
      "text/plain": [
       "<Figure size 640x480 with 0 Axes>"
      ]
     },
     "metadata": {},
     "output_type": "display_data"
    },
    {
     "data": {
      "image/png": "[encoded data removed]",
      "text/plain": [
       "<Figure size 640x480 with 1 Axes>"
      ]
     },
     "metadata": {},
     "output_type": "display_data"
    }
   ],
   "source": [
    "plt.figure()\n",
    "ax = tripdf.plot(kind=\"scatter\", x='Trip_Org_long', y='Trip_Org_lat', color='blue', label='Origin', cmap=plt.get_cmap(\"jet\"))\n",
    "tripdf.plot(kind=\"scatter\", x='Trip_Dest_long', y='Trip_Dest_lat', color='red', label='Destination', ax=ax, cmap=plt.get_cmap(\"jet\"))\n",
    "plt.legend()"
   ]
  },
  {
   "cell_type": "code",
   "execution_count": 78,
   "metadata": {},
   "outputs": [],
   "source": [
    "# Trip_Org_city = []\n",
    "\n",
    "# for i in range(len(Julydf)):\n",
    "#     city = getlocation(str(Julydf['Trip_Org_lat'][i]), str(Julydf['Trip_Org_long'][i]))\n",
    "#     Trip_Org_city.append(city)\n",
    "    "
   ]
  },
  {
   "cell_type": "code",
   "execution_count": null,
   "metadata": {},
   "outputs": [],
   "source": []
  },
  {
   "cell_type": "code",
   "execution_count": null,
   "metadata": {},
   "outputs": [],
   "source": []
  },
  {
   "cell_type": "code",
   "execution_count": null,
   "metadata": {},
   "outputs": [],
   "source": []
  },
  {
   "cell_type": "code",
   "execution_count": 36,
   "metadata": {},
   "outputs": [],
   "source": []
  },
  {
   "cell_type": "code",
   "execution_count": null,
   "metadata": {},
   "outputs": [],
   "source": []
  }
 ],
 "metadata": {
  "kernelspec": {
   "display_name": "Python 3.10.6 ('env': venv)",
   "language": "python",
   "name": "python3"
  },
  "language_info": {
   "codemirror_mode": {
    "name": "ipython",
    "version": 3
   },
   "file_extension": ".py",
   "mimetype": "text/x-python",
   "name": "python",
   "nbconvert_exporter": "python",
   "pygments_lexer": "ipython3",
   "version": "3.10.6"
  },
  "orig_nbformat": 4,
  "vscode": {
   "interpreter": {
    "hash": "b69871794c6e7838e4ba221d2d04bcbb9e322bc0eb1292983a9510bf1d0db37a"
   }
  }
 },
 "nbformat": 4,
 "nbformat_minor": 2
}
